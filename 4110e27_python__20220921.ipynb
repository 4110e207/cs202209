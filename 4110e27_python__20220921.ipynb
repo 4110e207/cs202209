{
  "nbformat": 4,
  "nbformat_minor": 0,
  "metadata": {
    "colab": {
      "provenance": [],
      "authorship_tag": "ABX9TyPgszd+5Isc2CHZZrn4eI9z",
      "include_colab_link": true
    },
    "kernelspec": {
      "name": "python3",
      "display_name": "Python 3"
    },
    "language_info": {
      "name": "python"
    }
  },
  "cells": [
    {
      "cell_type": "markdown",
      "metadata": {
        "id": "view-in-github",
        "colab_type": "text"
      },
      "source": [
        "<a href=\"https://colab.research.google.com/github/004110E207/cs2022/blob/main/4110e27_python__20220921.ipynb\" target=\"_parent\"><img src=\"https://colab.research.google.com/assets/colab-badge.svg\" alt=\"Open In Colab\"/></a>"
      ]
    },
    {
      "cell_type": "code",
      "source": [
        "import pandas as pd\n",
        "print(\"pandas version: %s\" % pd.__version__)\n",
        " \n",
        "import matplotlib\n",
        "print(\"matplotlib version: %s\" % matplotlib.__version__)\n",
        " \n",
        "import numpy as np\n",
        "print(\"numpy version: %s\" % np.__version__)\n",
        " \n",
        "import sklearn\n",
        "print(\"scikit-learn version: %s\" % sklearn.__version__)\n",
        " \n",
        "import tensorflow as tf\n",
        "print(\"tensorflow version: %s\" % tf.__version__)\n",
        " \n",
        "import torch\n",
        "print(\"PyTorch version: %s\" %torch.__version__)"
      ],
      "metadata": {
        "colab": {
          "base_uri": "https://localhost:8080/"
        },
        "id": "gXBOsMvMqU_X",
        "outputId": "5babf739-687f-4806-d1f8-2019618771e6"
      },
      "execution_count": null,
      "outputs": [
        {
          "output_type": "stream",
          "name": "stdout",
          "text": [
            "pandas version: 1.3.5\n",
            "matplotlib version: 3.2.2\n",
            "numpy version: 1.21.6\n",
            "scikit-learn version: 1.0.2\n",
            "tensorflow version: 2.8.2\n",
            "PyTorch version: 1.12.1+cu113\n"
          ]
        }
      ]
    }
  ]
}