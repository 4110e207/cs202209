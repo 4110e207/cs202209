{
  "nbformat": 4,
  "nbformat_minor": 0,
  "metadata": {
    "colab": {
      "provenance": []
    },
    "kernelspec": {
      "name": "python3",
      "display_name": "Python 3"
    },
    "language_info": {
      "name": "python"
    }
  },
  "cells": [
    {
      "cell_type": "markdown",
      "source": [
        "# 1019 4110E207\n",
        "\n",
        "Python conditions and If statements\n"
      ],
      "metadata": {
        "id": "8cj_7dctt4P3"
      }
    },
    {
      "cell_type": "markdown",
      "source": [
        "Exercise 1:Print \"Hello love\" if a is greater than b."
      ],
      "metadata": {
        "id": "41Vx2pfmuwzB"
      }
    },
    {
      "cell_type": "code",
      "source": [
        "a= 20\n",
        "b = 9\n",
        "\n",
        "if a > b:\n",
        "\n",
        "  print(\"Hello love\")"
      ],
      "metadata": {
        "colab": {
          "base_uri": "https://localhost:8080/"
        },
        "id": "_vSCiNcmvR8o",
        "outputId": "aaa0e4d3-56db-4e94-ff3d-9fd439624976"
      },
      "execution_count": null,
      "outputs": [
        {
          "output_type": "stream",
          "name": "stdout",
          "text": [
            "Hello love\n"
          ]
        }
      ]
    },
    {
      "cell_type": "markdown",
      "source": [
        "Exercise 2: Print \"Hello love\" if a is not equal to b."
      ],
      "metadata": {
        "id": "z8sV7oaZwbvA"
      }
    },
    {
      "cell_type": "code",
      "source": [
        "a = 24\n",
        "b = 10\n",
        "\n",
        "if a == b:\n",
        "\n",
        "  print(\"Hello love\")"
      ],
      "metadata": {
        "id": "CniGCjcSw3ls"
      },
      "execution_count": null,
      "outputs": []
    },
    {
      "cell_type": "markdown",
      "source": [
        "Exercise 3: Print \"You\" if a is equal to b, otherwise print \"me\".\n",
        "\n"
      ],
      "metadata": {
        "id": "7aCzNftExZuZ"
      }
    },
    {
      "cell_type": "code",
      "source": [
        "a = 64\n",
        "b = 15\n",
        "\n",
        "if a == b:\n",
        "\n",
        "  print(\"You\") or print(\"me\")"
      ],
      "metadata": {
        "id": "sqIMKio0xriY"
      },
      "execution_count": null,
      "outputs": []
    },
    {
      "cell_type": "markdown",
      "source": [
        "Exercise 4: Print \"1\" if a is equal to b, print \"2\" if a is greater than b, otherwise print \"3\".\n",
        "\n"
      ],
      "metadata": {
        "id": "U7TP1nwKytev"
      }
    },
    {
      "cell_type": "code",
      "source": [
        "a = 50\n",
        "b = 10\n",
        "\n",
        "\n",
        "if a == b :\n",
        " print(\"1\") \n",
        " \n",
        " if a > b :\n",
        "\n",
        "  print(\"2\") or print(\"3\")"
      ],
      "metadata": {
        "id": "6pFXjaU2zZZd"
      },
      "execution_count": null,
      "outputs": []
    },
    {
      "cell_type": "markdown",
      "source": [
        "Exercise 5:Print \"love\" if a is equal to b, and c is equal to d."
      ],
      "metadata": {
        "id": "J0lMRint2yY0"
      }
    },
    {
      "cell_type": "code",
      "source": [
        "if a == b and \"c == d:\"\n",
        "   print(\"love\")"
      ],
      "metadata": {
        "colab": {
          "base_uri": "https://localhost:8080/",
          "height": 130
        },
        "id": "i3DXtcRB3C5X",
        "outputId": "ffdd82ed-8cf9-44b3-824a-d61703469015"
      },
      "execution_count": 9,
      "outputs": [
        {
          "output_type": "error",
          "ename": "SyntaxError",
          "evalue": "ignored",
          "traceback": [
            "\u001b[0;36m  File \u001b[0;32m\"<ipython-input-9-3707025cfd69>\"\u001b[0;36m, line \u001b[0;32m1\u001b[0m\n\u001b[0;31m    if a == b and \"c == d:\"\u001b[0m\n\u001b[0m                           ^\u001b[0m\n\u001b[0;31mSyntaxError\u001b[0m\u001b[0;31m:\u001b[0m invalid syntax\n"
          ]
        }
      ]
    },
    {
      "cell_type": "markdown",
      "source": [
        "Exercise 6:Print \"Hello\" if a is equal to b, or if c is equal to d.\n",
        "\n"
      ],
      "metadata": {
        "id": "ovReuNfe6b0q"
      }
    },
    {
      "cell_type": "code",
      "source": [
        "if a == b or c == d\n",
        "  print(\"love\")"
      ],
      "metadata": {
        "colab": {
          "base_uri": "https://localhost:8080/",
          "height": 130
        },
        "id": "vq5F-bfF6vRm",
        "outputId": "50dfe7bb-cbd0-4510-f8c3-24e094747e1b"
      },
      "execution_count": 8,
      "outputs": [
        {
          "output_type": "error",
          "ename": "SyntaxError",
          "evalue": "ignored",
          "traceback": [
            "\u001b[0;36m  File \u001b[0;32m\"<ipython-input-8-65898840927f>\"\u001b[0;36m, line \u001b[0;32m1\u001b[0m\n\u001b[0;31m    if a == b or c == d\u001b[0m\n\u001b[0m                       ^\u001b[0m\n\u001b[0;31mSyntaxError\u001b[0m\u001b[0;31m:\u001b[0m invalid syntax\n"
          ]
        }
      ]
    },
    {
      "cell_type": "markdown",
      "source": [
        "Exercise 7:This example misses indentations to be correct.\n",
        "\n",
        "Insert the missing indentation to make the code correct:\n",
        "\n"
      ],
      "metadata": {
        "id": "W1WMcKiG7d6K"
      }
    },
    {
      "cell_type": "code",
      "source": [
        "if 5 > 2:\n",
        " print(\"Five is greater than two!\")"
      ],
      "metadata": {
        "colab": {
          "base_uri": "https://localhost:8080/"
        },
        "id": "1mQyKhFR7snL",
        "outputId": "cbf20659-54cb-4c62-dd28-ef1c61dfa963"
      },
      "execution_count": null,
      "outputs": [
        {
          "output_type": "stream",
          "name": "stdout",
          "text": [
            "Five is greater than two!\n"
          ]
        }
      ]
    },
    {
      "cell_type": "markdown",
      "source": [
        "Exercise 8:Use the correct short hand syntax to put the following statement on one line:\n",
        "\n"
      ],
      "metadata": {
        "id": "Nhcwz2Dm74vt"
      }
    },
    {
      "cell_type": "code",
      "source": [
        "if 5 > 2:\n",
        "  print(\"Five is greater than two!\")"
      ],
      "metadata": {
        "colab": {
          "base_uri": "https://localhost:8080/"
        },
        "id": "SNwI-coh8CXr",
        "outputId": "72e7049e-4260-4069-febe-c0e19e9a342c"
      },
      "execution_count": null,
      "outputs": [
        {
          "output_type": "stream",
          "name": "stdout",
          "text": [
            "Five is greater than two!\n"
          ]
        }
      ]
    },
    {
      "cell_type": "markdown",
      "source": [
        "Exercise 9:Use the correct short hand syntax to write the following conditional expression in one line:"
      ],
      "metadata": {
        "id": "znme6Ee48M8S"
      }
    },
    {
      "cell_type": "code",
      "source": [
        "if 5 > 2:\n",
        "  print(\"Yes\")\n",
        "else:\n",
        "  print(\"No\")"
      ],
      "metadata": {
        "colab": {
          "base_uri": "https://localhost:8080/"
        },
        "id": "hobjJKMq8Z5q",
        "outputId": "31365601-f091-4fa9-b644-31835a5aed65"
      },
      "execution_count": null,
      "outputs": [
        {
          "output_type": "stream",
          "name": "stdout",
          "text": [
            "Yes\n"
          ]
        }
      ]
    }
  ]
}