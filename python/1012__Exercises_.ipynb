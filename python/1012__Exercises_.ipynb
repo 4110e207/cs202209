{
  "nbformat": 4,
  "nbformat_minor": 0,
  "metadata": {
    "colab": {
      "provenance": []
    },
    "kernelspec": {
      "name": "python3",
      "display_name": "Python 3"
    },
    "language_info": {
      "name": "python"
    }
  },
  "cells": [
    {
      "cell_type": "markdown",
      "source": [
        "Python List:"
      ],
      "metadata": {
        "id": "d4ND2V054HcF"
      }
    },
    {
      "cell_type": "code",
      "execution_count": 3,
      "metadata": {
        "colab": {
          "base_uri": "https://localhost:8080/"
        },
        "id": "7mb4oy-jm-vJ",
        "outputId": "a2a2ff76-851c-47da-8a59-db0af2c201dc"
      },
      "outputs": [
        {
          "output_type": "stream",
          "name": "stdout",
          "text": [
            "you\n"
          ]
        }
      ],
      "source": [
        "thislist = [\"I\", \"miss\", \"you\"]\n",
        "print(thislist[2])"
      ]
    },
    {
      "cell_type": "code",
      "source": [
        "thislist = [\"I\", \"miss\", \"you\", \"I\", \"miss\"]\n",
        "print(thislist[0])\n",
        "print(thislist[3])\n",
        "print(thislist)\n",
        "\n",
        "\n"
      ],
      "metadata": {
        "colab": {
          "base_uri": "https://localhost:8080/"
        },
        "id": "J_5IY_5yq_6J",
        "outputId": "86e171d6-a8c5-49d0-e226-cfeb0eabd520"
      },
      "execution_count": 11,
      "outputs": [
        {
          "output_type": "stream",
          "name": "stdout",
          "text": [
            "I\n",
            "I\n",
            "['I', 'miss', 'you', 'I', 'miss']\n"
          ]
        }
      ]
    },
    {
      "cell_type": "code",
      "source": [
        "thislist = [\"I\", \"miss\", \"you\"]\n",
        "print(len(thislist))"
      ],
      "metadata": {
        "colab": {
          "base_uri": "https://localhost:8080/"
        },
        "id": "F4fUKY4Hwt7P",
        "outputId": "3269605e-136d-411b-fae5-03e11fbaf632"
      },
      "execution_count": 14,
      "outputs": [
        {
          "output_type": "stream",
          "name": "stdout",
          "text": [
            "3\n"
          ]
        }
      ]
    },
    {
      "cell_type": "code",
      "source": [
        "mylist = [\"I\", \"miss\", \"you\"]\n",
        "print(type(mylist))"
      ],
      "metadata": {
        "colab": {
          "base_uri": "https://localhost:8080/"
        },
        "id": "9110fnlGx-hl",
        "outputId": "39615c51-a7ad-463b-876f-a3700e083068"
      },
      "execution_count": 18,
      "outputs": [
        {
          "output_type": "stream",
          "name": "stdout",
          "text": [
            "<class 'list'>\n"
          ]
        }
      ]
    },
    {
      "cell_type": "code",
      "source": [
        "thislist = list((\"I\", \"miss\", \"you\")) # note the double round-brackets\n",
        "print(thislist)"
      ],
      "metadata": {
        "colab": {
          "base_uri": "https://localhost:8080/"
        },
        "id": "qnENOjSZy5zh",
        "outputId": "878c7ae1-7013-40c9-83b2-4f62f154f63d"
      },
      "execution_count": 20,
      "outputs": [
        {
          "output_type": "stream",
          "name": "stdout",
          "text": [
            "['I', 'miss', 'you']\n"
          ]
        }
      ]
    },
    {
      "cell_type": "markdown",
      "source": [
        "Basic List Operations:\n",
        "\n",
        "*Acess List Name\n",
        "*Change LIst Name\n",
        "*Add List Items\n",
        "*Remove List Items"
      ],
      "metadata": {
        "id": "ya-3bfpJtc5p"
      }
    },
    {
      "cell_type": "code",
      "source": [
        "thislist = [\"I\", \"miss\", \"you\"]\n",
        "print(thislist[-2])"
      ],
      "metadata": {
        "colab": {
          "base_uri": "https://localhost:8080/"
        },
        "id": "JCxuMXa3uGrW",
        "outputId": "4d9feb2d-72e9-41c8-ffe2-810af3de6661"
      },
      "execution_count": 1,
      "outputs": [
        {
          "output_type": "stream",
          "name": "stdout",
          "text": [
            "miss\n"
          ]
        }
      ]
    },
    {
      "cell_type": "code",
      "source": [
        "thislist = [\"I\", \"miss\", \"you\", \"so\", \"bad\", \"love\"]\n",
        "\n",
        "thislist[1:3] = [\"need\", \"love\"]\n",
        "\n",
        "print(thislist)\n"
      ],
      "metadata": {
        "colab": {
          "base_uri": "https://localhost:8080/"
        },
        "id": "c1RL7TjnubGF",
        "outputId": "d0df07de-5248-4afd-d266-f44593e952ab"
      },
      "execution_count": 4,
      "outputs": [
        {
          "output_type": "stream",
          "name": "stdout",
          "text": [
            "['I', 'need', 'love', 'so', 'bad', 'love']\n"
          ]
        }
      ]
    },
    {
      "cell_type": "code",
      "source": [
        "thislist = [\"I\", \"miss\", \"you\"]\n",
        "thislist.insert(3, \"love\")\n",
        "print(thislist)\n"
      ],
      "metadata": {
        "colab": {
          "base_uri": "https://localhost:8080/"
        },
        "id": "l2AfSzI7vtkV",
        "outputId": "426e9dfe-cec4-48c2-cd33-82d981ba2c34"
      },
      "execution_count": 9,
      "outputs": [
        {
          "output_type": "stream",
          "name": "stdout",
          "text": [
            "['I', 'miss', 'you', 'love']\n"
          ]
        }
      ]
    },
    {
      "cell_type": "code",
      "source": [
        "thislist = [\"I\", \"miss\", \"you\"]\n",
        "thislist.pop(2)\n",
        "print(thislist)\n"
      ],
      "metadata": {
        "colab": {
          "base_uri": "https://localhost:8080/"
        },
        "id": "nnLjkhq-wNyE",
        "outputId": "92cb8b4e-18dc-442e-c8b9-ddbad2432aed"
      },
      "execution_count": 11,
      "outputs": [
        {
          "output_type": "stream",
          "name": "stdout",
          "text": [
            "['I', 'miss']\n"
          ]
        }
      ]
    },
    {
      "cell_type": "markdown",
      "source": [
        "Advanced Operations in Python List:\n",
        "\n",
        "*Sort Lists\n",
        "*Copy Lists\n",
        "*Join Lists\n"
      ],
      "metadata": {
        "id": "IBapWy8Rw3NZ"
      }
    },
    {
      "cell_type": "code",
      "source": [
        "thislist = [\"miss\", \"you\", \"I\", \"you\"]\n",
        "\n",
        "thislist.sort(key = str.lower)\n",
        "\n",
        "print(thislist)\n",
        "\n"
      ],
      "metadata": {
        "colab": {
          "base_uri": "https://localhost:8080/"
        },
        "id": "n-M5C98ZyIc2",
        "outputId": "6e70e58a-48c5-4a14-bcf1-fb28a32d7056"
      },
      "execution_count": 20,
      "outputs": [
        {
          "output_type": "stream",
          "name": "stdout",
          "text": [
            "['I', 'miss', 'you', 'you']\n"
          ]
        }
      ]
    },
    {
      "cell_type": "code",
      "source": [
        "thislist = [\"I\", \"miss\", \"you\"]\n",
        "mylist = list(thislist)\n",
        "print(mylist)\n"
      ],
      "metadata": {
        "colab": {
          "base_uri": "https://localhost:8080/"
        },
        "id": "M-SMIANMzuZf",
        "outputId": "230925bd-e845-4eef-8a9c-030335e179a2"
      },
      "execution_count": 21,
      "outputs": [
        {
          "output_type": "stream",
          "name": "stdout",
          "text": [
            "['I', 'miss', 'you']\n"
          ]
        }
      ]
    },
    {
      "cell_type": "code",
      "source": [
        "list1 = [\"I\", \"miss\" , \"you\"]\n",
        "list2 = [1, 2, 3]\n",
        "\n",
        "list1.extend(list2)\n",
        "print(list1)\n"
      ],
      "metadata": {
        "colab": {
          "base_uri": "https://localhost:8080/"
        },
        "id": "IzFgksN-z8TB",
        "outputId": "2c100df9-661a-4c80-e9cf-3bf5b47de35a"
      },
      "execution_count": 24,
      "outputs": [
        {
          "output_type": "stream",
          "name": "stdout",
          "text": [
            "['I', 'miss', 'you', 1, 2, 3]\n"
          ]
        }
      ]
    },
    {
      "cell_type": "markdown",
      "source": [
        "List Method:"
      ],
      "metadata": {
        "id": "_MiP26J20ut5"
      }
    },
    {
      "cell_type": "code",
      "source": [
        "fruits = ['I', 'miss', 'you']\n",
        "\n",
        "fruits.reverse()\n"
      ],
      "metadata": {
        "id": "jhcr_PzI01JL"
      },
      "execution_count": 27,
      "outputs": []
    },
    {
      "cell_type": "markdown",
      "source": [
        "Python List Exercises:"
      ],
      "metadata": {
        "id": "nkzQBAuD1wIm"
      }
    },
    {
      "cell_type": "code",
      "source": [
        "fruits = [\"I\", \"need\", \"you\"]\n",
        "print(\"need\")\n"
      ],
      "metadata": {
        "colab": {
          "base_uri": "https://localhost:8080/"
        },
        "id": "HQvcx13w1ycI",
        "outputId": "c2a109de-bc79-4803-c4f1-044dee5faba1"
      },
      "execution_count": 29,
      "outputs": [
        {
          "output_type": "stream",
          "name": "stdout",
          "text": [
            "need\n"
          ]
        }
      ]
    },
    {
      "cell_type": "markdown",
      "source": [
        "More Exercises:"
      ],
      "metadata": {
        "id": "KqFqOkcY2Uxk"
      }
    },
    {
      "cell_type": "code",
      "source": [
        "fruits = [\"I\", \"miss\", \"me\"]\n",
        "fruits[0] = \"you\"\n"
      ],
      "metadata": {
        "id": "Nzgehuhl2abB"
      },
      "execution_count": 31,
      "outputs": []
    },
    {
      "cell_type": "code",
      "source": [
        "fruits = [\"I\", \"miss\", \"you\"]\n",
        "fruits.append(\"orange\")\n"
      ],
      "metadata": {
        "id": "82k1tg2r3gRH"
      },
      "execution_count": 32,
      "outputs": []
    }
  ]
}