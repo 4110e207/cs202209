{
  "nbformat": 4,
  "nbformat_minor": 0,
  "metadata": {
    "colab": {
      "provenance": [],
      "collapsed_sections": []
    },
    "kernelspec": {
      "name": "python3",
      "display_name": "Python 3"
    },
    "language_info": {
      "name": "python"
    }
  },
  "cells": [
    {
      "cell_type": "markdown",
      "source": [
        "##1102_Test"
      ],
      "metadata": {
        "id": "jRZXs7g8wnEZ"
      }
    },
    {
      "cell_type": "markdown",
      "source": [
        "##A. Multiple Choice"
      ],
      "metadata": {
        "id": "Xrun1n1u3kLS"
      }
    },
    {
      "cell_type": "markdown",
      "source": [
        "##1\n",
        "Which following is the correct way to create a dictionary in Python?\n",
        "   (A) students = { 'name' => 'alice' ;  'score' =>60 }\n",
        "   (B) students = { 'name' = 'alice' ;  'score' =60 }\n",
        "   (C) students = { 'name' : 'alice' ;  'score' : 60 }\n",
        "   (D) students = { 'name' => 'alice' ,  'score' =>60 }\n",
        "   (E) students = { 'name' : 'alice' , 'score' : 60 }\n",
        "\n",
        "\n",
        "#C"
      ],
      "metadata": {
        "id": "iZWpTILbwdr_"
      }
    },
    {
      "cell_type": "markdown",
      "source": [
        "##2\n",
        "\n",
        "\n",
        "What does the following Python program fragment do?\n",
        "   s=0\n",
        "   for i in range (3 , 10) :\n",
        "        s+=i\n",
        "   print (s)\n",
        "   (A) Calculate the sum of 1+2+…+10\n",
        "   (B) Calculate the sum of 1+4+7+10\n",
        "   (C) Calculate the sum of 3+4+5+6+…+9\n",
        "   (D) Calculate the sum of 3+4+5+6+…+10\n",
        "   (E) Calculate the sum of 0+2+4+6+…+10\n",
        "\n",
        "\n",
        "#C"
      ],
      "metadata": {
        "id": "XZID3V9LxQqm"
      }
    },
    {
      "cell_type": "markdown",
      "source": [
        "##3\n",
        "\n",
        "What is the output of this code in Python?\n",
        "      list = [ ' a ' ,  ' b ' ,  ' c ' ,  ' d ' ,  ' e ' ]\n",
        "      print (list [ 1 : ])\n",
        "   (A) [ ]\n",
        "   (B) [ 'b' ]\n",
        "   (C) [ 'a' ,  'b' ]\n",
        "   (D) [ 'b' ,  'c' ,  'd' ,  'e' ]\n",
        "\n",
        "\n",
        "#D"
      ],
      "metadata": {
        "id": "B2BN6g8lyAK5"
      }
    },
    {
      "cell_type": "code",
      "source": [
        "list = [ ' a ' , ' b ' , ' c ' , ' d ' , ' e ' ]\n",
        "print (list [ 1 : ])"
      ],
      "metadata": {
        "colab": {
          "base_uri": "https://localhost:8080/"
        },
        "id": "yF3joM4lyOcE",
        "outputId": "1d9d1aac-d112-4bec-9b82-b287acd743fd"
      },
      "execution_count": 2,
      "outputs": [
        {
          "output_type": "stream",
          "name": "stdout",
          "text": [
            "[' b ', ' c ', ' d ', ' e ']\n"
          ]
        }
      ]
    },
    {
      "cell_type": "markdown",
      "source": [
        "##4\n",
        "What is the output of this code in Python?\n",
        "        L1 = [ ]\n",
        "        L1.append ( [1, [2, 3], 4] )\n",
        "        L1.extend ( [7, 8, 9] )\n",
        "        print(L1[0][1][1] + L1[2] )\n",
        "   (A) 3  (B) 8  (C) 11  (D) 38  (E) None of these\n",
        "\n",
        "\n",
        "#C"
      ],
      "metadata": {
        "id": "Jgot9o3qyuVB"
      }
    },
    {
      "cell_type": "code",
      "source": [
        "L1 = [ ] \n",
        "L1.append ( [1, [2, 3], 4] )\n",
        "L1.extend ( [7, 8, 9] ) \n",
        "print(L1[0][1][1] + L1[2] )"
      ],
      "metadata": {
        "colab": {
          "base_uri": "https://localhost:8080/"
        },
        "id": "J_DNfl4ky_y_",
        "outputId": "fd2ae185-801b-4bb7-9fb7-8188397ef7c2"
      },
      "execution_count": 3,
      "outputs": [
        {
          "output_type": "stream",
          "name": "stdout",
          "text": [
            "11\n"
          ]
        }
      ]
    },
    {
      "cell_type": "markdown",
      "source": [
        "##5\n",
        "\n",
        "What is the output of this code in python?\n",
        "        r = lambda q: q * 2\n",
        "        s = lambda q: q * 3\n",
        "        x = 2\n",
        "        x = r (x)\n",
        "        x = s (x)\n",
        "        x = r (x)\n",
        "        print (x)\n",
        "   (A) 2  (B) 4  (C) 6  (D) 12  (E) 24\n",
        "\n",
        "\n",
        "#E"
      ],
      "metadata": {
        "id": "UUkdGnDVzVfF"
      }
    },
    {
      "cell_type": "code",
      "source": [
        "r = lambda q: q * 2\n",
        "s = lambda q: q * 3\n",
        "x = 2\n",
        "x = r (x)\n",
        "x = s (x)\n",
        "x = r (x)\n",
        "print (x)"
      ],
      "metadata": {
        "colab": {
          "base_uri": "https://localhost:8080/"
        },
        "id": "1Fbhe5ryzsDe",
        "outputId": "853e4212-20ec-43be-d7e1-e6e063a16bd4"
      },
      "execution_count": 4,
      "outputs": [
        {
          "output_type": "stream",
          "name": "stdout",
          "text": [
            "24\n"
          ]
        }
      ]
    },
    {
      "cell_type": "markdown",
      "source": [
        "##6\n",
        "\n",
        "Which of the following conditions correctly describes the output of this code in  Python?\n",
        "         first = [1 , 2 , 3 , 4 , 5]\n",
        "         second = first\n",
        "         second.append (6)\n",
        "         print (first)\n",
        "         print (second)\n",
        "   (A) first=[1, 2, 3, 4, 5], second=[1, 2, 3, 4, 5, 6]\n",
        "   (B) first=[1, 2, 3, 4, 5, 6], second=[1, 2, 3, 4, 5]\n",
        "   (C) first=[1, 2, 3, 4, 5], second=[1, 2, 3, 4, 5]\n",
        "   (D) first=[1, 2, 3, 4, 5, 6], second=[1, 2, 3, 4, 5, 6]\n",
        "   (E) None of these\n",
        "\n",
        "\n",
        "#D"
      ],
      "metadata": {
        "id": "odbnMqb80CJg"
      }
    },
    {
      "cell_type": "code",
      "source": [
        "first = [1 , 2 , 3 , 4 , 5]\n",
        "second = first\n",
        "second.append (6)\n",
        "print (first)\n",
        "print (second)"
      ],
      "metadata": {
        "colab": {
          "base_uri": "https://localhost:8080/"
        },
        "id": "SAYFSQ_r0NIa",
        "outputId": "b639e1a6-2a0d-4032-f203-9f811af54f00"
      },
      "execution_count": 5,
      "outputs": [
        {
          "output_type": "stream",
          "name": "stdout",
          "text": [
            "[1, 2, 3, 4, 5, 6]\n",
            "[1, 2, 3, 4, 5, 6]\n"
          ]
        }
      ]
    },
    {
      "cell_type": "markdown",
      "source": [
        "##7\n",
        "\n",
        "If the function \n",
        "int volume (int x = 1, int y = 1, int z = 1); \n",
        "is called by the expression volume (7,8), \n",
        "how many default arguments are used?\n",
        "(A) None  (B) One  (C) Two  (D) Three\n",
        "(E) It depends on the runtime environment.\n",
        "\n",
        "\n",
        "#C"
      ],
      "metadata": {
        "id": "tPfYvctE0vtd"
      }
    },
    {
      "cell_type": "markdown",
      "source": [
        "##B1."
      ],
      "metadata": {
        "id": "WFjxrtxB2knr"
      }
    },
    {
      "cell_type": "markdown",
      "source": [
        "#What is the output of this code in Python? explain it.\n",
        "\n",
        "\n",
        "# primes.py\n",
        "primes = []  # this will contain the primes at the end\n",
        "upto = 100  # the limit, inclusive\n",
        "for n in range(2, upto + 1):\n",
        "    is_prime = True  # flag, new at each iteration of outer for\n",
        "    for divisor in range(2, n):\n",
        "        if n % divisor == 0:\n",
        "            is_prime = False\n",
        "            break\n",
        "    if is_prime:  # check on flag\n",
        "        primes.append(n)\n",
        "print(primes)"
      ],
      "metadata": {
        "id": "7L5V6hiR4BFM"
      }
    },
    {
      "cell_type": "code",
      "source": [
        "# primes.py\n",
        "primes = []  # this will contain the primes at the end\n",
        "upto = 100  # the limit, inclusive\n",
        "for n in range(2, upto + 1):\n",
        "    is_prime = True  # flag, new at each iteration of outer for\n",
        "    for divisor in range(2, n):\n",
        "        if n % divisor == 0:\n",
        "            is_prime = False\n",
        "            break\n",
        "    if is_prime:  # check on flag\n",
        "        primes.append(n)\n",
        "print(primes)"
      ],
      "metadata": {
        "colab": {
          "base_uri": "https://localhost:8080/"
        },
        "id": "bf9YbtzJ4UyN",
        "outputId": "c285d212-3fa1-4bf8-9095-636276afeec1"
      },
      "execution_count": 6,
      "outputs": [
        {
          "output_type": "stream",
          "name": "stdout",
          "text": [
            "[2, 3, 5, 7, 11, 13, 17, 19, 23, 29, 31, 37, 41, 43, 47, 53, 59, 61, 67, 71, 73, 79, 83, 89, 97]\n"
          ]
        }
      ]
    },
    {
      "cell_type": "markdown",
      "source": [
        "#B2."
      ],
      "metadata": {
        "id": "5CKuwqAU4zC9"
      }
    },
    {
      "cell_type": "markdown",
      "source": [
        "#What is the output of this code in Python? explain it.\n",
        "\n",
        "# primes.else.py\n",
        "primes = []\n",
        "upto = 100\n",
        "for n in range(2, upto + 1):\n",
        "    for divisor in range(2, n):\n",
        "        if n % divisor == 0:\n",
        "            break\n",
        "    else:\n",
        "        primes.append(n)\n",
        "print(primes)"
      ],
      "metadata": {
        "id": "r8Nnx5Gi5PSV"
      }
    },
    {
      "cell_type": "code",
      "source": [
        "# primes.else.py\n",
        "primes = []\n",
        "upto = 100\n",
        "for n in range(2, upto + 1):\n",
        "    for divisor in range(2, n):\n",
        "        if n % divisor == 0:\n",
        "            break\n",
        "    else:\n",
        "        primes.append(n)\n",
        "print(primes)"
      ],
      "metadata": {
        "colab": {
          "base_uri": "https://localhost:8080/"
        },
        "id": "QTUx_hPy5dO9",
        "outputId": "aa72dc77-e1df-444d-9a58-a5f73c89cae1"
      },
      "execution_count": 7,
      "outputs": [
        {
          "output_type": "stream",
          "name": "stdout",
          "text": [
            "[2, 3, 5, 7, 11, 13, 17, 19, 23, 29, 31, 37, 41, 43, 47, 53, 59, 61, 67, 71, 73, 79, 83, 89, 97]\n"
          ]
        }
      ]
    },
    {
      "cell_type": "markdown",
      "source": [
        "#B3."
      ],
      "metadata": {
        "id": "OviNryLB5mGE"
      }
    },
    {
      "cell_type": "markdown",
      "source": [
        "#What is the output of this code in Python?explain it.\n",
        "\n",
        "cubes = [x**3 for x in range(1,6)]\n",
        "print(cubes)"
      ],
      "metadata": {
        "id": "1tUEEsZI5uLK"
      }
    },
    {
      "cell_type": "markdown",
      "source": [
        "ANSWER:\n",
        "\n",
        "range(1,6) ==> 1,2,3,4,5\n",
        "\n",
        "(x**3 for x in range(1,6) ==>1**3 , 2**3, ..... 5**3"
      ],
      "metadata": {
        "id": "DuwGlP0K6Unt"
      }
    },
    {
      "cell_type": "code",
      "source": [
        "cubes = [x**3 for x in range(1,6)]\n",
        "print(cubes)"
      ],
      "metadata": {
        "colab": {
          "base_uri": "https://localhost:8080/"
        },
        "id": "ilZsDQgZ51Mq",
        "outputId": "f2c5feb3-2f17-4edb-e091-7ca84498265a"
      },
      "execution_count": 8,
      "outputs": [
        {
          "output_type": "stream",
          "name": "stdout",
          "text": [
            "[1, 8, 27, 64, 125]\n"
          ]
        }
      ]
    },
    {
      "cell_type": "markdown",
      "source": [
        "##C.Programming Python"
      ],
      "metadata": {
        "id": "bsFUOgbK7imn"
      }
    },
    {
      "cell_type": "markdown",
      "source": [
        "The Fibonacci numbers may be defined by the recurrence relation\n",
        " F_{0}=0, F_{1}=1\n",
        "and\n",
        "F_{n} = F_{n-1} + F_{n-2}   for n > 1.\n",
        "\n",
        "0,1,1,2,3,5,8,......\n",
        "\n",
        "Under some older definitions, the value  F_{0}=0 is omitted, \n",
        "so that the sequence starts with F_{1}=F_{2}=1 and \n",
        "the recurrence F_{n}=F_{n-1}+F_{n-2} is valid for n > 2\n",
        "\n",
        "(1)Write a Python function/Program to Find Fibonacci Numbers using Recursion\n",
        "(2)use iterative Approach To Find the nth Term Of Fibonacci Sequence(You need to write a function using loop)"
      ],
      "metadata": {
        "id": "SPGhjTNY7-dt"
      }
    },
    {
      "cell_type": "code",
      "source": [
        "# Python program to display the Fibonacci sequence\n",
        "\n",
        "def recur_fibo(n):\n",
        "   if n <= 1:\n",
        "       return n\n",
        "   else:\n",
        "       return(recur_fibo(n-1) + recur_fibo(n-2))\n",
        "\n",
        "nterms = 10\n",
        "\n",
        "# check if the number of terms is valid\n",
        "if nterms <= 0:\n",
        "   print(\"Plese enter a positive integer\")\n",
        "else:\n",
        "   print(\"Fibonacci sequence:\")\n",
        "   for i in range(nterms):\n",
        "       print(recur_fibo(i))\n"
      ],
      "metadata": {
        "colab": {
          "base_uri": "https://localhost:8080/"
        },
        "id": "RJHPoB5R-6hw",
        "outputId": "04f3ff73-2809-42b6-a5c9-e60cdb58f2b7"
      },
      "execution_count": 11,
      "outputs": [
        {
          "output_type": "stream",
          "name": "stdout",
          "text": [
            "Fibonacci sequence:\n",
            "0\n",
            "1\n",
            "1\n",
            "2\n",
            "3\n",
            "5\n",
            "8\n",
            "13\n",
            "21\n",
            "34\n"
          ]
        }
      ]
    }
  ]
}